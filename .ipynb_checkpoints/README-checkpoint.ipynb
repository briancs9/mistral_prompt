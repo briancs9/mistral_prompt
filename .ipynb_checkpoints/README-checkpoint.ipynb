{
 "cells": [
  {
   "cell_type": "markdown",
   "id": "b7db7f98",
   "metadata": {},
   "source": [
    "---\n",
    "\n",
    "title: \"README\"\n",
    "format: gfm\n",
    "jupyter: python3\n",
    "\n",
    "---"
   ]
  },
  {
   "cell_type": "markdown",
   "id": "1866d518",
   "metadata": {},
   "source": [
    "## Mistral AI Prompt Command Line Script"
   ]
  },
  {
   "cell_type": "markdown",
   "id": "0f8d0f13",
   "metadata": {},
   "source": [
    "Default setting is \"small\". Pass another size (e.g. tiny or medium) as an argument.\n",
    "Script expects the mistral key to be available in the directory as a .txt file."
   ]
  }
 ],
 "metadata": {
  "kernelspec": {
   "display_name": "Python 3 (ipykernel)",
   "language": "python",
   "name": "python3"
  },
  "language_info": {
   "codemirror_mode": {
    "name": "ipython",
    "version": 3
   },
   "file_extension": ".py",
   "mimetype": "text/x-python",
   "name": "python",
   "nbconvert_exporter": "python",
   "pygments_lexer": "ipython3",
   "version": "3.8.9"
  }
 },
 "nbformat": 4,
 "nbformat_minor": 5
}
